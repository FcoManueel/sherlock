{
 "cells": [
  {
   "cell_type": "markdown",
   "metadata": {},
   "source": [
    "# First we define the model."
   ]
  },
  {
   "cell_type": "code",
   "execution_count": null,
   "metadata": {
    "collapsed": true
   },
   "outputs": [],
   "source": [
    "from textblob.classifiers import NaiveBayesClassifier\n",
    "\n",
    "def model_training():\n",
    "    \n",
    "def model_evaluate():"
   ]
  },
  {
   "cell_type": "markdown",
   "metadata": {},
   "source": [
    "# Now we've got to use some training data."
   ]
  },
  {
   "cell_type": "code",
   "execution_count": null,
   "metadata": {
    "collapsed": true
   },
   "outputs": [],
   "source": []
  },
  {
   "cell_type": "markdown",
   "metadata": {},
   "source": [
    "# Then we use that model to get our analysis output, based on the user input."
   ]
  },
  {
   "cell_type": "code",
   "execution_count": null,
   "metadata": {
    "collapsed": true
   },
   "outputs": [],
   "source": [
    "from github import Github\n",
    "from random import randint\n",
    "\n",
    "\n",
    "g = Github(\"chunkzer\", \"fhd4password\")\n",
    "input_string = \"facebook/react\" #Replaced with user given string\n",
    "repo = g.get_repo(input_string, False)\n",
    "root_dir = repo.get_git_tree(sha=\"master\", recursive=True)\n",
    "\n",
    "\n",
    "fileHash = {}\n",
    "\n",
    "for file in root_dir.tree:\n",
    "    fileHash[file.path] = [0,0,0,0]\n",
    "    \n",
    "for key in magicHash:\n",
    "    commits = repo.get_commits(path=key)\n",
    "    for commit in commits:\n",
    "        fileHash[key][randint(0,3)]+= 1 #Replace with model results.\n",
    "\n",
    "print g.rate_limiting"
   ]
  }
 ],
 "metadata": {
  "kernelspec": {
   "display_name": "Python 2",
   "language": "python",
   "name": "python2"
  },
  "language_info": {
   "codemirror_mode": {
    "name": "ipython",
    "version": 2
   },
   "file_extension": ".py",
   "mimetype": "text/x-python",
   "name": "python",
   "nbconvert_exporter": "python",
   "pygments_lexer": "ipython2",
   "version": "2.7.10"
  }
 },
 "nbformat": 4,
 "nbformat_minor": 1
}
